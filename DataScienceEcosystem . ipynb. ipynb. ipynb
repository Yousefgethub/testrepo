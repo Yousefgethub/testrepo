{
 "cells": [
  {
   "cell_type": "code",
   "execution_count": null,
   "id": "3e09cda8-bb1f-4fc9-ad64-ab9e52c2aed7",
   "metadata": {},
   "outputs": [],
   "source": []
  },
  {
   "cell_type": "markdown",
   "id": "c86f17a8-84f9-4b15-9e4c-d26fe1670dfe",
   "metadata": {},
   "source": [
    "# Data Science Tools and Ecosystem"
   ]
  },
  {
   "cell_type": "code",
   "execution_count": 3,
   "id": "3bea302a-5434-4f6d-abea-14721f51d5f5",
   "metadata": {
    "tags": []
   },
   "outputs": [],
   "source": [
    "##2-title.png"
   ]
  },
  {
   "cell_type": "markdown",
   "id": "bab6e29d-9206-40f6-bd8c-f170eea3df05",
   "metadata": {
    "tags": []
   },
   "source": [
    "In this notebook, Data Science Tools and Ecosystem are summarized"
   ]
  },
  {
   "cell_type": "markdown",
   "id": "d2732673-eb8b-4263-bd58-6fb1b31eb46e",
   "metadata": {
    "tags": []
   },
   "source": [
    "**Objectives:**\n",
    "\n",
    "- List popular languages for Data Science\n",
    "- Identify commonly used libraries in Data Science\n",
    "- Explain different types of development environments used in Data Science\n",
    "- Evaluate arithmetic expressions in Python\n",
    "- Convert units of time using arithmetic expressions in Python\n"
   ]
  },
  {
   "cell_type": "markdown",
   "id": "ceaaebb8-3bb3-4625-b001-4653f351c7f2",
   "metadata": {
    "tags": []
   },
   "source": [
    "**Overview:** Some of the popular languages that Data Scientists use are:\n",
    "\n",
    "1. Python\n",
    "2. R\n",
    "3. SQL\n"
   ]
  },
  {
   "cell_type": "markdown",
   "id": "55e16dd5-39f2-425a-ac45-d615369a9081",
   "metadata": {
    "tags": []
   },
   "source": [
    "**Overview:** Some of the commonly used libraries used by Data Scientists include:\n",
    "\n",
    "1. NumPy\n",
    "2. Pandas\n",
    "3. Matplotlib\n"
   ]
  },
  {
   "cell_type": "markdown",
   "id": "e8805c06-beed-485b-ba0f-e2692f10b93d",
   "metadata": {
    "tags": []
   },
   "source": [
    "| Data Science Tools |\n",
    "| ------------------ |\n",
    "| Jupyter Notebook    | \n",
    "| RStudio             |\n",
    "| Spyder              |\n"
   ]
  },
  {
   "cell_type": "markdown",
   "id": "da73330f-be09-4827-ab0f-fde184568abc",
   "metadata": {},
   "source": [
    "### Below are a few examples of evaluating arithmetic expressions in Python.\n"
   ]
  },
  {
   "cell_type": "code",
   "execution_count": 20,
   "id": "201543a1-5be2-4c1e-b1dc-d54a9a843091",
   "metadata": {},
   "outputs": [
    {
     "data": {
      "text/plain": [
       "17"
      ]
     },
     "execution_count": 20,
     "metadata": {},
     "output_type": "execute_result"
    }
   ],
   "source": [
    "# This is a simple arithmetic expression to multiply then add integers.\n",
    "\n",
    "(3 * 4) + 5\n"
   ]
  },
  {
   "cell_type": "code",
   "execution_count": 22,
   "id": "4bb6a06d-ed38-4094-a975-57a1504918d7",
   "metadata": {
    "tags": []
   },
   "outputs": [
    {
     "data": {
      "text/plain": [
       "3.3333333333333335"
      ]
     },
     "execution_count": 22,
     "metadata": {},
     "output_type": "execute_result"
    }
   ],
   "source": [
    "# This will convert 200 minutes to hours by dividing by 60.\n",
    "\n",
    "200 / 60"
   ]
  },
  {
   "cell_type": "markdown",
   "id": "27a75401-03fb-4b40-9fd1-13f0ec4f3393",
   "metadata": {},
   "source": [
    "## Author\n",
    "\n",
    "Yousef Al Ali"
   ]
  },
  {
   "cell_type": "code",
   "execution_count": null,
   "id": "ceb3fabf-8486-4780-9806-f6eee9f317f7",
   "metadata": {},
   "outputs": [],
   "source": []
  }
 ],
 "metadata": {
  "kernelspec": {
   "display_name": "Python 3 (ipykernel)",
   "language": "python",
   "name": "python3"
  },
  "language_info": {
   "codemirror_mode": {
    "name": "ipython",
    "version": 3
   },
   "file_extension": ".py",
   "mimetype": "text/x-python",
   "name": "python",
   "nbconvert_exporter": "python",
   "pygments_lexer": "ipython3",
   "version": "3.10.9"
  }
 },
 "nbformat": 4,
 "nbformat_minor": 5
}
